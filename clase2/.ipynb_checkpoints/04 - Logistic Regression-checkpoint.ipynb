{
 "cells": [
  {
   "cell_type": "markdown",
   "metadata": {},
   "source": [
    "La **Regresión Logística** se encuentra implementada en dos liberías. La primera es la que venimos utilizando hasta el día de hoy. Es Scikit-Learn. No obstante, en dicha librería no existe implementada la inferencia estadística. Es decir, si queremos calcular el p-value de cada una de las variables para saber si alguna variable es o no relevante en el modelo. Esto no se encuentra desarrollado. Por lo tanto se deberá crear una función específica para poder calcularlo.\n",
    "\n",
    "Otra librería en donde se encuentra implementada es la statsmodel."
   ]
  },
  {
   "cell_type": "code",
   "execution_count": 6,
   "metadata": {},
   "outputs": [],
   "source": [
    "import pandas as pd\n",
    "import numpy as np\n",
    "pd.set_option('display.max_columns', None)\n",
    "import warnings\n",
    "warnings.filterwarnings(\"ignore\")\n",
    "\n",
    "import os\n",
    "#os.chdir('../')\n",
    "\n",
    "import statsmodels.api as sm"
   ]
  },
  {
   "cell_type": "code",
   "execution_count": 7,
   "metadata": {},
   "outputs": [
    {
     "ename": "NameError",
     "evalue": "name 'train_test_split' is not defined",
     "output_type": "error",
     "traceback": [
      "\u001b[0;31m------------------------------------------------------------------\u001b[0m",
      "\u001b[0;31mNameError\u001b[0m                        Traceback (most recent call last)",
      "\u001b[0;32m<ipython-input-7-206e3d31efee>\u001b[0m in \u001b[0;36m<module>\u001b[0;34m\u001b[0m\n\u001b[1;32m      2\u001b[0m \u001b[0mX\u001b[0m \u001b[0;34m=\u001b[0m \u001b[0mtrain\u001b[0m\u001b[0;34m.\u001b[0m\u001b[0mdrop\u001b[0m\u001b[0;34m(\u001b[0m\u001b[0mcolumns\u001b[0m \u001b[0;34m=\u001b[0m \u001b[0;34m[\u001b[0m\u001b[0;34m\"Survived\"\u001b[0m\u001b[0;34m,\u001b[0m \u001b[0;34m\"PassengerId\"\u001b[0m\u001b[0;34m]\u001b[0m\u001b[0;34m)\u001b[0m\u001b[0;34m\u001b[0m\u001b[0;34m\u001b[0m\u001b[0m\n\u001b[1;32m      3\u001b[0m \u001b[0my\u001b[0m \u001b[0;34m=\u001b[0m \u001b[0mtrain\u001b[0m\u001b[0;34m.\u001b[0m\u001b[0mSurvived\u001b[0m\u001b[0;34m\u001b[0m\u001b[0;34m\u001b[0m\u001b[0m\n\u001b[0;32m----> 4\u001b[0;31m \u001b[0mX_train\u001b[0m\u001b[0;34m,\u001b[0m \u001b[0mX_test\u001b[0m\u001b[0;34m,\u001b[0m \u001b[0my_train\u001b[0m\u001b[0;34m,\u001b[0m \u001b[0my_test\u001b[0m \u001b[0;34m=\u001b[0m \u001b[0mtrain_test_split\u001b[0m\u001b[0;34m(\u001b[0m\u001b[0mX\u001b[0m\u001b[0;34m,\u001b[0m \u001b[0my\u001b[0m\u001b[0;34m,\u001b[0m \u001b[0mtest_size\u001b[0m\u001b[0;34m=\u001b[0m\u001b[0;36m0.33\u001b[0m\u001b[0;34m,\u001b[0m \u001b[0mrandom_state\u001b[0m\u001b[0;34m=\u001b[0m\u001b[0;36m42\u001b[0m\u001b[0;34m)\u001b[0m\u001b[0;34m\u001b[0m\u001b[0;34m\u001b[0m\u001b[0m\n\u001b[0m",
      "\u001b[0;31mNameError\u001b[0m: name 'train_test_split' is not defined"
     ]
    }
   ],
   "source": [
    "train = pd.read_csv(\"./data/titanic/02 - preprocesada/train.csv\")\n",
    "X = train.drop(columns = [\"Survived\", \"PassengerId\"])\n",
    "y = train.Survived\n",
    "X_train, X_test, y_train, y_test = train_test_split(X, y, test_size=0.33, random_state=42)"
   ]
  },
  {
   "cell_type": "code",
   "execution_count": 3,
   "metadata": {},
   "outputs": [
    {
     "name": "stdout",
     "output_type": "stream",
     "text": [
      "Collecting statsmodels\n",
      "\u001b[?25l  Downloading https://files.pythonhosted.org/packages/55/14/1005548bc8de401f7aa4112d5a5d2044357d678240887f9b3eb1e99ade90/statsmodels-0.12.0-cp37-cp37m-macosx_10_13_x86_64.whl (9.6MB)\n",
      "\u001b[K     |████████████████████████████████| 9.6MB 1.4MB/s eta 0:00:01\n",
      "\u001b[?25hRequirement already satisfied: scipy>=1.1 in /Users/b05348/Documents/proyectos/diplomatura/venv/lib/python3.7/site-packages (from statsmodels) (1.5.2)\n",
      "Requirement already satisfied: numpy>=1.15 in /Users/b05348/Documents/proyectos/diplomatura/venv/lib/python3.7/site-packages (from statsmodels) (1.19.1)\n",
      "Requirement already satisfied: pandas>=0.21 in /Users/b05348/Documents/proyectos/diplomatura/venv/lib/python3.7/site-packages (from statsmodels) (1.1.1)\n",
      "Collecting patsy>=0.5 (from statsmodels)\n",
      "  Using cached https://files.pythonhosted.org/packages/ea/0c/5f61f1a3d4385d6bf83b83ea495068857ff8dfb89e74824c6e9eb63286d8/patsy-0.5.1-py2.py3-none-any.whl\n",
      "Requirement already satisfied: python-dateutil>=2.7.3 in /Users/b05348/Documents/proyectos/diplomatura/venv/lib/python3.7/site-packages (from pandas>=0.21->statsmodels) (2.8.1)\n",
      "Requirement already satisfied: pytz>=2017.2 in /Users/b05348/Documents/proyectos/diplomatura/venv/lib/python3.7/site-packages (from pandas>=0.21->statsmodels) (2020.1)\n",
      "Requirement already satisfied: six in /Users/b05348/Documents/proyectos/diplomatura/venv/lib/python3.7/site-packages (from patsy>=0.5->statsmodels) (1.15.0)\n",
      "Installing collected packages: patsy, statsmodels\n",
      "Successfully installed patsy-0.5.1 statsmodels-0.12.0\n",
      "\u001b[33mWARNING: You are using pip version 19.2.3, however version 20.2.2 is available.\n",
      "You should consider upgrading via the 'pip install --upgrade pip' command.\u001b[0m\n",
      "Note: you may need to restart the kernel to use updated packages.\n"
     ]
    }
   ],
   "source": [
    "logit_model=sm.Logit(y_train,X_train)\n",
    "result=logit_model.fit()\n",
    "print(result.summary())"
   ]
  },
  {
   "cell_type": "code",
   "execution_count": null,
   "metadata": {},
   "outputs": [],
   "source": []
  }
 ],
 "metadata": {
  "kernelspec": {
   "display_name": "Python 3",
   "language": "python",
   "name": "python3"
  },
  "language_info": {
   "codemirror_mode": {
    "name": "ipython",
    "version": 3
   },
   "file_extension": ".py",
   "mimetype": "text/x-python",
   "name": "python",
   "nbconvert_exporter": "python",
   "pygments_lexer": "ipython3",
   "version": "3.7.6"
  }
 },
 "nbformat": 4,
 "nbformat_minor": 4
}
