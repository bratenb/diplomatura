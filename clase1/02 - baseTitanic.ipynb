{
 "cells": [
  {
   "cell_type": "markdown",
   "metadata": {},
   "source": [
    "Generalmente, una buena práctica es en la primer celda (si están usando jupyter notebook) o en las primeras líneas (si están armando un script .py) se definen todas las librerías y las configuraciones para luego comenzar con los códigos.\n",
    "Para importar una librería se debe utilizar la palabra reservada **import** seguido de la librería que se desea importar. En algunos casos se utilizan alias como se verá constantemente en la bibliografía acerca de pandas y numpy. "
   ]
  },
  {
   "cell_type": "code",
   "execution_count": 1,
   "metadata": {},
   "outputs": [],
   "source": [
    "import pandas as pd\n",
    "import numpy as np\n",
    "pd.set_option('display.max_columns', None)\n",
    "import os\n",
    "os.chdir('../')\n",
    "os.getcwd()\n",
    "import warnings\n",
    "warnings.filterwarnings(\"ignore\")\n",
    "import seaborn as sns \n",
    "sns.set()\n",
    "import matplotlib.pyplot as plt\n",
    "\n",
    "from sklearn.preprocessing import LabelEncoder\n"
   ]
  },
  {
   "cell_type": "code",
   "execution_count": 2,
   "metadata": {},
   "outputs": [],
   "source": [
    "train = pd.read_csv(\"./data/titanic/01 - inicial/train.csv\")\n",
    "test = pd.read_csv(\"./data/titanic/01 - inicial/test.csv\")"
   ]
  },
  {
   "cell_type": "code",
   "execution_count": 3,
   "metadata": {},
   "outputs": [],
   "source": [
    "data = train.append(test, ignore_index=True)"
   ]
  },
  {
   "cell_type": "code",
   "execution_count": 4,
   "metadata": {},
   "outputs": [
    {
     "name": "stdout",
     "output_type": "stream",
     "text": [
      "<class 'pandas.core.frame.DataFrame'>\n",
      "RangeIndex: 1309 entries, 0 to 1308\n",
      "Data columns (total 12 columns):\n",
      " #   Column       Non-Null Count  Dtype  \n",
      "---  ------       --------------  -----  \n",
      " 0   PassengerId  1309 non-null   int64  \n",
      " 1   Survived     891 non-null    float64\n",
      " 2   Pclass       1309 non-null   int64  \n",
      " 3   Name         1309 non-null   object \n",
      " 4   Sex          1309 non-null   object \n",
      " 5   Age          1046 non-null   float64\n",
      " 6   SibSp        1309 non-null   int64  \n",
      " 7   Parch        1309 non-null   int64  \n",
      " 8   Ticket       1309 non-null   object \n",
      " 9   Fare         1308 non-null   float64\n",
      " 10  Cabin        295 non-null    object \n",
      " 11  Embarked     1307 non-null   object \n",
      "dtypes: float64(3), int64(4), object(5)\n",
      "memory usage: 122.8+ KB\n"
     ]
    }
   ],
   "source": [
    "data.info()"
   ]
  },
  {
   "cell_type": "markdown",
   "metadata": {},
   "source": [
    "# Diccionario de los campos de la base\n",
    "**Survived** -> Survival - target (0 = No, 1 = Si)\\\n",
    "**Pclass** -> Ticket Class (1 = 1st, 2 = 2nd, 3 = 3rd)\\\n",
    "**Sex** -> Sex (male, female)\\\n",
    "**Age** -> Age in years\\\n",
    "**SibSp** -> of siblings / spouses aboard the Titanic\\\n",
    "**Parch** -> of parents / children aboard the Titanic\\\n",
    "**Ticket** -> ticket number\\\n",
    "**Fare** -> Passenger Fare (Tarifa)\\\n",
    "**Cabin** -> cabin Number\\\n",
    "**Embarked** -> Port of Embarkation (C = Cherbourg, Q = Queenstown, S = Southampton)\n"
   ]
  },
  {
   "cell_type": "code",
   "execution_count": 5,
   "metadata": {},
   "outputs": [
    {
     "data": {
      "text/html": [
       "<div>\n",
       "<style scoped>\n",
       "    .dataframe tbody tr th:only-of-type {\n",
       "        vertical-align: middle;\n",
       "    }\n",
       "\n",
       "    .dataframe tbody tr th {\n",
       "        vertical-align: top;\n",
       "    }\n",
       "\n",
       "    .dataframe thead th {\n",
       "        text-align: right;\n",
       "    }\n",
       "</style>\n",
       "<table border=\"1\" class=\"dataframe\">\n",
       "  <thead>\n",
       "    <tr style=\"text-align: right;\">\n",
       "      <th></th>\n",
       "      <th>PassengerId</th>\n",
       "      <th>Survived</th>\n",
       "      <th>Pclass</th>\n",
       "      <th>Name</th>\n",
       "      <th>Sex</th>\n",
       "      <th>Age</th>\n",
       "      <th>SibSp</th>\n",
       "      <th>Parch</th>\n",
       "      <th>Ticket</th>\n",
       "      <th>Fare</th>\n",
       "      <th>Cabin</th>\n",
       "      <th>Embarked</th>\n",
       "    </tr>\n",
       "  </thead>\n",
       "  <tbody>\n",
       "    <tr>\n",
       "      <th>0</th>\n",
       "      <td>1</td>\n",
       "      <td>0.0</td>\n",
       "      <td>3</td>\n",
       "      <td>Braund, Mr. Owen Harris</td>\n",
       "      <td>male</td>\n",
       "      <td>22.0</td>\n",
       "      <td>1</td>\n",
       "      <td>0</td>\n",
       "      <td>A/5 21171</td>\n",
       "      <td>7.2500</td>\n",
       "      <td>NaN</td>\n",
       "      <td>S</td>\n",
       "    </tr>\n",
       "    <tr>\n",
       "      <th>1</th>\n",
       "      <td>2</td>\n",
       "      <td>1.0</td>\n",
       "      <td>1</td>\n",
       "      <td>Cumings, Mrs. John Bradley (Florence Briggs Th...</td>\n",
       "      <td>female</td>\n",
       "      <td>38.0</td>\n",
       "      <td>1</td>\n",
       "      <td>0</td>\n",
       "      <td>PC 17599</td>\n",
       "      <td>71.2833</td>\n",
       "      <td>C85</td>\n",
       "      <td>C</td>\n",
       "    </tr>\n",
       "    <tr>\n",
       "      <th>2</th>\n",
       "      <td>3</td>\n",
       "      <td>1.0</td>\n",
       "      <td>3</td>\n",
       "      <td>Heikkinen, Miss. Laina</td>\n",
       "      <td>female</td>\n",
       "      <td>26.0</td>\n",
       "      <td>0</td>\n",
       "      <td>0</td>\n",
       "      <td>STON/O2. 3101282</td>\n",
       "      <td>7.9250</td>\n",
       "      <td>NaN</td>\n",
       "      <td>S</td>\n",
       "    </tr>\n",
       "    <tr>\n",
       "      <th>3</th>\n",
       "      <td>4</td>\n",
       "      <td>1.0</td>\n",
       "      <td>1</td>\n",
       "      <td>Futrelle, Mrs. Jacques Heath (Lily May Peel)</td>\n",
       "      <td>female</td>\n",
       "      <td>35.0</td>\n",
       "      <td>1</td>\n",
       "      <td>0</td>\n",
       "      <td>113803</td>\n",
       "      <td>53.1000</td>\n",
       "      <td>C123</td>\n",
       "      <td>S</td>\n",
       "    </tr>\n",
       "    <tr>\n",
       "      <th>4</th>\n",
       "      <td>5</td>\n",
       "      <td>0.0</td>\n",
       "      <td>3</td>\n",
       "      <td>Allen, Mr. William Henry</td>\n",
       "      <td>male</td>\n",
       "      <td>35.0</td>\n",
       "      <td>0</td>\n",
       "      <td>0</td>\n",
       "      <td>373450</td>\n",
       "      <td>8.0500</td>\n",
       "      <td>NaN</td>\n",
       "      <td>S</td>\n",
       "    </tr>\n",
       "  </tbody>\n",
       "</table>\n",
       "</div>"
      ],
      "text/plain": [
       "   PassengerId  Survived  Pclass  \\\n",
       "0            1       0.0       3   \n",
       "1            2       1.0       1   \n",
       "2            3       1.0       3   \n",
       "3            4       1.0       1   \n",
       "4            5       0.0       3   \n",
       "\n",
       "                                                Name     Sex   Age  SibSp  \\\n",
       "0                            Braund, Mr. Owen Harris    male  22.0      1   \n",
       "1  Cumings, Mrs. John Bradley (Florence Briggs Th...  female  38.0      1   \n",
       "2                             Heikkinen, Miss. Laina  female  26.0      0   \n",
       "3       Futrelle, Mrs. Jacques Heath (Lily May Peel)  female  35.0      1   \n",
       "4                           Allen, Mr. William Henry    male  35.0      0   \n",
       "\n",
       "   Parch            Ticket     Fare Cabin Embarked  \n",
       "0      0         A/5 21171   7.2500   NaN        S  \n",
       "1      0          PC 17599  71.2833   C85        C  \n",
       "2      0  STON/O2. 3101282   7.9250   NaN        S  \n",
       "3      0            113803  53.1000  C123        S  \n",
       "4      0            373450   8.0500   NaN        S  "
      ]
     },
     "execution_count": 5,
     "metadata": {},
     "output_type": "execute_result"
    }
   ],
   "source": [
    "data.head()"
   ]
  },
  {
   "cell_type": "code",
   "execution_count": 6,
   "metadata": {},
   "outputs": [
    {
     "data": {
      "text/plain": [
       "(1309, 12)"
      ]
     },
     "execution_count": 6,
     "metadata": {},
     "output_type": "execute_result"
    }
   ],
   "source": [
    "data.shape"
   ]
  },
  {
   "cell_type": "code",
   "execution_count": 7,
   "metadata": {},
   "outputs": [
    {
     "data": {
      "text/plain": [
       "Cabin          1014\n",
       "Survived        418\n",
       "Age             263\n",
       "Embarked          2\n",
       "Fare              1\n",
       "Ticket            0\n",
       "Parch             0\n",
       "SibSp             0\n",
       "Sex               0\n",
       "Name              0\n",
       "Pclass            0\n",
       "PassengerId       0\n",
       "dtype: int64"
      ]
     },
     "execution_count": 7,
     "metadata": {},
     "output_type": "execute_result"
    }
   ],
   "source": [
    "#Validamos la cantidad de nulos por variable\n",
    "data.isna().sum().sort_values(ascending = False)"
   ]
  },
  {
   "cell_type": "code",
   "execution_count": 8,
   "metadata": {},
   "outputs": [
    {
     "data": {
      "text/plain": [
       "Cabin          0.774637\n",
       "Survived       0.319328\n",
       "Age            0.200917\n",
       "Embarked       0.001528\n",
       "Fare           0.000764\n",
       "Ticket         0.000000\n",
       "Parch          0.000000\n",
       "SibSp          0.000000\n",
       "Sex            0.000000\n",
       "Name           0.000000\n",
       "Pclass         0.000000\n",
       "PassengerId    0.000000\n",
       "dtype: float64"
      ]
     },
     "execution_count": 8,
     "metadata": {},
     "output_type": "execute_result"
    }
   ],
   "source": [
    "(data.isna().sum() / data.shape[0]).sort_values(ascending = False)"
   ]
  },
  {
   "cell_type": "code",
   "execution_count": 9,
   "metadata": {},
   "outputs": [
    {
     "data": {
      "text/html": [
       "<div>\n",
       "<style scoped>\n",
       "    .dataframe tbody tr th:only-of-type {\n",
       "        vertical-align: middle;\n",
       "    }\n",
       "\n",
       "    .dataframe tbody tr th {\n",
       "        vertical-align: top;\n",
       "    }\n",
       "\n",
       "    .dataframe thead th {\n",
       "        text-align: right;\n",
       "    }\n",
       "</style>\n",
       "<table border=\"1\" class=\"dataframe\">\n",
       "  <thead>\n",
       "    <tr style=\"text-align: right;\">\n",
       "      <th></th>\n",
       "      <th>PassengerId</th>\n",
       "      <th>Survived</th>\n",
       "      <th>Pclass</th>\n",
       "      <th>Age</th>\n",
       "      <th>SibSp</th>\n",
       "      <th>Parch</th>\n",
       "      <th>Fare</th>\n",
       "    </tr>\n",
       "  </thead>\n",
       "  <tbody>\n",
       "    <tr>\n",
       "      <th>count</th>\n",
       "      <td>1309.000000</td>\n",
       "      <td>891.000000</td>\n",
       "      <td>1309.000000</td>\n",
       "      <td>1046.000000</td>\n",
       "      <td>1309.000000</td>\n",
       "      <td>1309.000000</td>\n",
       "      <td>1308.000000</td>\n",
       "    </tr>\n",
       "    <tr>\n",
       "      <th>mean</th>\n",
       "      <td>655.000000</td>\n",
       "      <td>0.383838</td>\n",
       "      <td>2.294882</td>\n",
       "      <td>29.881138</td>\n",
       "      <td>0.498854</td>\n",
       "      <td>0.385027</td>\n",
       "      <td>33.295479</td>\n",
       "    </tr>\n",
       "    <tr>\n",
       "      <th>std</th>\n",
       "      <td>378.020061</td>\n",
       "      <td>0.486592</td>\n",
       "      <td>0.837836</td>\n",
       "      <td>14.413493</td>\n",
       "      <td>1.041658</td>\n",
       "      <td>0.865560</td>\n",
       "      <td>51.758668</td>\n",
       "    </tr>\n",
       "    <tr>\n",
       "      <th>min</th>\n",
       "      <td>1.000000</td>\n",
       "      <td>0.000000</td>\n",
       "      <td>1.000000</td>\n",
       "      <td>0.170000</td>\n",
       "      <td>0.000000</td>\n",
       "      <td>0.000000</td>\n",
       "      <td>0.000000</td>\n",
       "    </tr>\n",
       "    <tr>\n",
       "      <th>25%</th>\n",
       "      <td>328.000000</td>\n",
       "      <td>0.000000</td>\n",
       "      <td>2.000000</td>\n",
       "      <td>21.000000</td>\n",
       "      <td>0.000000</td>\n",
       "      <td>0.000000</td>\n",
       "      <td>7.895800</td>\n",
       "    </tr>\n",
       "    <tr>\n",
       "      <th>50%</th>\n",
       "      <td>655.000000</td>\n",
       "      <td>0.000000</td>\n",
       "      <td>3.000000</td>\n",
       "      <td>28.000000</td>\n",
       "      <td>0.000000</td>\n",
       "      <td>0.000000</td>\n",
       "      <td>14.454200</td>\n",
       "    </tr>\n",
       "    <tr>\n",
       "      <th>75%</th>\n",
       "      <td>982.000000</td>\n",
       "      <td>1.000000</td>\n",
       "      <td>3.000000</td>\n",
       "      <td>39.000000</td>\n",
       "      <td>1.000000</td>\n",
       "      <td>0.000000</td>\n",
       "      <td>31.275000</td>\n",
       "    </tr>\n",
       "    <tr>\n",
       "      <th>max</th>\n",
       "      <td>1309.000000</td>\n",
       "      <td>1.000000</td>\n",
       "      <td>3.000000</td>\n",
       "      <td>80.000000</td>\n",
       "      <td>8.000000</td>\n",
       "      <td>9.000000</td>\n",
       "      <td>512.329200</td>\n",
       "    </tr>\n",
       "  </tbody>\n",
       "</table>\n",
       "</div>"
      ],
      "text/plain": [
       "       PassengerId    Survived       Pclass          Age        SibSp  \\\n",
       "count  1309.000000  891.000000  1309.000000  1046.000000  1309.000000   \n",
       "mean    655.000000    0.383838     2.294882    29.881138     0.498854   \n",
       "std     378.020061    0.486592     0.837836    14.413493     1.041658   \n",
       "min       1.000000    0.000000     1.000000     0.170000     0.000000   \n",
       "25%     328.000000    0.000000     2.000000    21.000000     0.000000   \n",
       "50%     655.000000    0.000000     3.000000    28.000000     0.000000   \n",
       "75%     982.000000    1.000000     3.000000    39.000000     1.000000   \n",
       "max    1309.000000    1.000000     3.000000    80.000000     8.000000   \n",
       "\n",
       "             Parch         Fare  \n",
       "count  1309.000000  1308.000000  \n",
       "mean      0.385027    33.295479  \n",
       "std       0.865560    51.758668  \n",
       "min       0.000000     0.000000  \n",
       "25%       0.000000     7.895800  \n",
       "50%       0.000000    14.454200  \n",
       "75%       0.000000    31.275000  \n",
       "max       9.000000   512.329200  "
      ]
     },
     "execution_count": 9,
     "metadata": {},
     "output_type": "execute_result"
    }
   ],
   "source": [
    "data.describe()"
   ]
  },
  {
   "cell_type": "markdown",
   "metadata": {},
   "source": [
    "En la celda anterior podemos observar que la variable Cabin posee más del 77% de la base con valores nulos o missings. Por ende es una variable candidata a ser removida. La segunda variable que debe tener un tratamiento de missings es la variable Age. Por ende vamos a realizar algunos estudios para encontrar la mejor manera de completar dicha variable"
   ]
  },
  {
   "cell_type": "code",
   "execution_count": 10,
   "metadata": {},
   "outputs": [
    {
     "data": {
      "text/plain": [
       "Sex\n",
       "female    28.687088\n",
       "male      30.585228\n",
       "Name: Age, dtype: float64"
      ]
     },
     "execution_count": 10,
     "metadata": {},
     "output_type": "execute_result"
    }
   ],
   "source": [
    "#Voy a calcular la media por Genero\n",
    "data[~data.Age.isna()].groupby(\"Sex\").Age.mean()"
   ]
  },
  {
   "cell_type": "code",
   "execution_count": 11,
   "metadata": {},
   "outputs": [
    {
     "data": {
      "text/plain": [
       "Pclass\n",
       "1    39.159930\n",
       "2    29.506705\n",
       "3    24.816367\n",
       "Name: Age, dtype: float64"
      ]
     },
     "execution_count": 11,
     "metadata": {},
     "output_type": "execute_result"
    }
   ],
   "source": [
    "#Abro la media de edad por clase\n",
    "data[~data.Age.isna()].groupby(\"Pclass\").Age.mean()"
   ]
  },
  {
   "cell_type": "code",
   "execution_count": 12,
   "metadata": {},
   "outputs": [
    {
     "data": {
      "text/plain": [
       "Pclass  Sex   \n",
       "1       female    37.037594\n",
       "        male      41.029272\n",
       "2       female    27.499223\n",
       "        male      30.815380\n",
       "3       female    22.185329\n",
       "        male      25.962264\n",
       "Name: Age, dtype: float64"
      ]
     },
     "execution_count": 12,
     "metadata": {},
     "output_type": "execute_result"
    }
   ],
   "source": [
    "#Abro la media de edad por clase y edad\n",
    "data[~data.Age.isna()].groupby([\"Pclass\", \"Sex\"]).Age.mean()"
   ]
  },
  {
   "cell_type": "markdown",
   "metadata": {},
   "source": [
    "Simplemente abriendo la edad por clase y sexo podemos encontrar que existen diferencias en las edades entre las clases y el género. Es lógico pensando en la época en la que el Titanic se hundió.\n",
    "Por tal motivo si queremos realizar algún tipo de imputación, ya que tener en cuenta como mínimo estas dos variables. Por ende hacemos una imputación de la variable Age utilizando la mediana por estos seis segmentos (Clase y Sexo)"
   ]
  },
  {
   "cell_type": "code",
   "execution_count": 13,
   "metadata": {},
   "outputs": [],
   "source": [
    "for sex in data.Sex.drop_duplicates().values:\n",
    "    for pClass in data.Pclass.drop_duplicates().values:\n",
    "        median = data[(~data.Age.isna()) & \n",
    "                       (data.Pclass == pClass) &\n",
    "                       (data.Sex == sex)\n",
    "                      ].Age.median()\n",
    "        data[\"Age\"] = np.where((data.Age.isna()) & \n",
    "                       (data.Pclass == pClass) &\n",
    "                       (data.Sex == sex), median, data.Age)"
   ]
  },
  {
   "cell_type": "code",
   "execution_count": 14,
   "metadata": {},
   "outputs": [
    {
     "data": {
      "text/plain": [
       "0"
      ]
     },
     "execution_count": 14,
     "metadata": {},
     "output_type": "execute_result"
    }
   ],
   "source": [
    "data.Age.isna().sum()"
   ]
  },
  {
   "cell_type": "markdown",
   "metadata": {},
   "source": [
    "La variable *Embarked* tiene solo dos casos en nulos. Una forma de imputar estos dos nulos es utilizar la categoría que más valores posea"
   ]
  },
  {
   "cell_type": "code",
   "execution_count": 15,
   "metadata": {},
   "outputs": [
    {
     "data": {
      "text/plain": [
       "Embarked\n",
       "S    914\n",
       "C    270\n",
       "Q    123\n",
       "dtype: int64"
      ]
     },
     "execution_count": 15,
     "metadata": {},
     "output_type": "execute_result"
    }
   ],
   "source": [
    "data.groupby(\"Embarked\").size().sort_values(ascending = False)"
   ]
  },
  {
   "cell_type": "code",
   "execution_count": 16,
   "metadata": {},
   "outputs": [],
   "source": [
    "#Imputamos los valores missings con la categoria S\n",
    "data[\"Embarked\"] = np.where(data.Embarked.isna(), \"S\", data.Embarked)"
   ]
  },
  {
   "cell_type": "code",
   "execution_count": 17,
   "metadata": {},
   "outputs": [
    {
     "data": {
      "text/plain": [
       "Cabin          1014\n",
       "Survived        418\n",
       "Fare              1\n",
       "Embarked          0\n",
       "Ticket            0\n",
       "Parch             0\n",
       "SibSp             0\n",
       "Age               0\n",
       "Sex               0\n",
       "Name              0\n",
       "Pclass            0\n",
       "PassengerId       0\n",
       "dtype: int64"
      ]
     },
     "execution_count": 17,
     "metadata": {},
     "output_type": "execute_result"
    }
   ],
   "source": [
    "data.isna().sum().sort_values(ascending = False)"
   ]
  },
  {
   "cell_type": "markdown",
   "metadata": {},
   "source": [
    "La única variable que queda con valores nulos es Cabin, como la misma tenía un 77 % de nulos, la vamos a eliminar"
   ]
  },
  {
   "cell_type": "code",
   "execution_count": 18,
   "metadata": {},
   "outputs": [],
   "source": [
    "data = data.drop(columns = [\"Cabin\"])"
   ]
  },
  {
   "cell_type": "code",
   "execution_count": 19,
   "metadata": {},
   "outputs": [
    {
     "data": {
      "text/html": [
       "<div>\n",
       "<style scoped>\n",
       "    .dataframe tbody tr th:only-of-type {\n",
       "        vertical-align: middle;\n",
       "    }\n",
       "\n",
       "    .dataframe tbody tr th {\n",
       "        vertical-align: top;\n",
       "    }\n",
       "\n",
       "    .dataframe thead th {\n",
       "        text-align: right;\n",
       "    }\n",
       "</style>\n",
       "<table border=\"1\" class=\"dataframe\">\n",
       "  <thead>\n",
       "    <tr style=\"text-align: right;\">\n",
       "      <th></th>\n",
       "      <th>PassengerId</th>\n",
       "      <th>Survived</th>\n",
       "      <th>Pclass</th>\n",
       "      <th>Name</th>\n",
       "      <th>Sex</th>\n",
       "      <th>Age</th>\n",
       "      <th>SibSp</th>\n",
       "      <th>Parch</th>\n",
       "      <th>Ticket</th>\n",
       "      <th>Fare</th>\n",
       "      <th>Embarked</th>\n",
       "    </tr>\n",
       "  </thead>\n",
       "  <tbody>\n",
       "    <tr>\n",
       "      <th>1043</th>\n",
       "      <td>1044</td>\n",
       "      <td>NaN</td>\n",
       "      <td>3</td>\n",
       "      <td>Storey, Mr. Thomas</td>\n",
       "      <td>male</td>\n",
       "      <td>60.5</td>\n",
       "      <td>0</td>\n",
       "      <td>0</td>\n",
       "      <td>3701</td>\n",
       "      <td>NaN</td>\n",
       "      <td>S</td>\n",
       "    </tr>\n",
       "  </tbody>\n",
       "</table>\n",
       "</div>"
      ],
      "text/plain": [
       "      PassengerId  Survived  Pclass                Name   Sex   Age  SibSp  \\\n",
       "1043         1044       NaN       3  Storey, Mr. Thomas  male  60.5      0   \n",
       "\n",
       "      Parch Ticket  Fare Embarked  \n",
       "1043      0   3701   NaN        S  "
      ]
     },
     "execution_count": 19,
     "metadata": {},
     "output_type": "execute_result"
    }
   ],
   "source": [
    "#El caso que falta imputar de la variable Fare (Tarifa) es de clase 3, por ende para imputar lo que \n",
    "#haremos es asignarle el valor mas alto del pasaje de tercera clase\n",
    "data[data.Fare.isna()]"
   ]
  },
  {
   "cell_type": "code",
   "execution_count": 20,
   "metadata": {},
   "outputs": [
    {
     "data": {
      "text/plain": [
       "Survived       418\n",
       "Embarked         0\n",
       "Fare             0\n",
       "Ticket           0\n",
       "Parch            0\n",
       "SibSp            0\n",
       "Age              0\n",
       "Sex              0\n",
       "Name             0\n",
       "Pclass           0\n",
       "PassengerId      0\n",
       "dtype: int64"
      ]
     },
     "execution_count": 20,
     "metadata": {},
     "output_type": "execute_result"
    }
   ],
   "source": [
    "fare = data[(~data.Fare.isna()) & (data.Pclass == 3)].Fare.max()\n",
    "data[\"Fare\"] = np.where(data.Fare.isna(), fare, data.Fare)\n",
    "data.isna().sum().sort_values(ascending = False)"
   ]
  },
  {
   "cell_type": "code",
   "execution_count": 21,
   "metadata": {},
   "outputs": [
    {
     "data": {
      "text/plain": [
       "<AxesSubplot:>"
      ]
     },
     "execution_count": 21,
     "metadata": {},
     "output_type": "execute_result"
    },
    {
     "data": {
      "image/png": "[encoded data removed]",
      "text/plain": [
       "<Figure size 720x576 with 2 Axes>"
      ]
     },
     "metadata": {},
     "output_type": "display_data"
    }
   ],
   "source": [
    "# Defining plot sizes\n",
    "plt.figure(figsize = (10, 8))\n",
    "\n",
    "# Creating correlation matrix\n",
    "corr_mat = data.drop(columns=[\"PassengerId\"]).corr()\n",
    "\n",
    "# Plotting the matrix\n",
    "sns.heatmap(corr_mat, xticklabels = corr_mat.columns, yticklabels = corr_mat.columns, annot=True)"
   ]
  },
  {
   "cell_type": "markdown",
   "metadata": {},
   "source": [
    "Comenzaremos con los análisis visuales. Primero analizaremos la variable Embarked"
   ]
  },
  {
   "cell_type": "code",
   "execution_count": 22,
   "metadata": {},
   "outputs": [
    {
     "data": {
      "image/png": "[encoded data removed]",
      "text/plain": [
       "<Figure size 432x288 with 1 Axes>"
      ]
     },
     "metadata": {},
     "output_type": "display_data"
    }
   ],
   "source": [
    "suma = data[~data.Survived.isna()].groupby(\"Embarked\").Survived.sum()\\\n",
    "                                .to_frame(\"# Survived\").reset_index()\\\n",
    "                                .sort_values(by = \"# Survived\", ascending = False)\n",
    "chart = sns.barplot(x=\"Embarked\", y=\"# Survived\", \n",
    "                    data=suma)\n"
   ]
  },
  {
   "cell_type": "markdown",
   "metadata": {},
   "source": [
    "Podemos observar que hay más personas que se salvan embarcadas en el puerto de Southampton, no obstante es realmente representativo?"
   ]
  },
  {
   "cell_type": "code",
   "execution_count": 23,
   "metadata": {},
   "outputs": [
    {
     "data": {
      "image/png": "[encoded data removed]",
      "text/plain": [
       "<Figure size 432x288 with 1 Axes>"
      ]
     },
     "metadata": {},
     "output_type": "display_data"
    }
   ],
   "source": [
    "suma = data[~data.Survived.isna()].groupby(\"Embarked\").Survived.sum()\\\n",
    "                                .to_frame(\"# Survived\").reset_index()\\\n",
    "                                .sort_values(by = \"# Survived\", ascending = False)\n",
    "suma [\"% Survived\"] = suma[\"# Survived\"] / data.Survived.sum()\n",
    "chart = sns.barplot(x=\"Embarked\", y=\"% Survived\", \n",
    "                    data=suma)\n"
   ]
  },
  {
   "cell_type": "code",
   "execution_count": 24,
   "metadata": {},
   "outputs": [
    {
     "data": {
      "image/png": "[encoded data removed]",
      "text/plain": [
       "<Figure size 432x288 with 1 Axes>"
      ]
     },
     "metadata": {},
     "output_type": "display_data"
    }
   ],
   "source": [
    "suma = data[~data.Survived.isna()].groupby(\"Embarked\").size().to_frame(\"# People\").join(\n",
    "            data[~data.Survived.isna()].groupby(\"Embarked\").Survived.sum().to_frame(\"# Survived\"))\n",
    "suma[\"% Survived / Embarked\"] = suma[\"# Survived\"] / suma[\"# People\"]\n",
    "suma = suma.reset_index()\n",
    "chart = sns.barplot(x=\"Embarked\", y=\"% Survived / Embarked\", \n",
    "                    data=suma)\n"
   ]
  },
  {
   "cell_type": "markdown",
   "metadata": {},
   "source": [
    "En el último gráfico podemos observar que finalmente la gente que se embarcó en el puerto de Cherbourg tuvo más chance de sobrevivir. Más del 50% de los embarcados en dicho puerto sobrevivieron."
   ]
  },
  {
   "cell_type": "code",
   "execution_count": 25,
   "metadata": {},
   "outputs": [
    {
     "data": {
      "text/plain": [
       "<seaborn.axisgrid.FacetGrid at 0x1e8b4e09188>"
      ]
     },
     "execution_count": 25,
     "metadata": {},
     "output_type": "execute_result"
    },
    {
     "data": {
      "image/png": "[encoded data removed]",
      "text/plain": [
       "<Figure size 648x216 with 3 Axes>"
      ]
     },
     "metadata": {},
     "output_type": "display_data"
    }
   ],
   "source": [
    "sns.factorplot('Pclass',col='Embarked',data=train,kind='count',size=3)"
   ]
  },
  {
   "cell_type": "markdown",
   "metadata": {},
   "source": [
    "Para poder entender por que el puerto de Cherbourg tuvo mas personas salvadas abrimos por clase y puerto y observamos que en dicho puerto subio mucha mas gente de primera clase que del resto de las clases"
   ]
  },
  {
   "cell_type": "markdown",
   "metadata": {},
   "source": [
    "Vamos a crear algunas variables, por ejemplo utilizando el nombre de las personas, sacaremos el título que tiene cada uno de ellos"
   ]
  },
  {
   "cell_type": "code",
   "execution_count": 26,
   "metadata": {},
   "outputs": [
    {
     "data": {
      "text/plain": [
       "Mr              757\n",
       "Miss            260\n",
       "Mrs             197\n",
       "Master           61\n",
       "Dr                8\n",
       "Rev               8\n",
       "Col               4\n",
       "Major             2\n",
       "Ms                2\n",
       "Mlle              2\n",
       "Sir               1\n",
       "Capt              1\n",
       "Lady              1\n",
       "Dona              1\n",
       "Don               1\n",
       "the Countess      1\n",
       "Mme               1\n",
       "Jonkheer          1\n",
       "Name: titulo, dtype: int64"
      ]
     },
     "execution_count": 26,
     "metadata": {},
     "output_type": "execute_result"
    }
   ],
   "source": [
    "data['titulo']=data['Name'].map(lambda x:x.split(',')[1].split('.')[0].strip())\n",
    "#check the distribution of \"title\"\n",
    "data['titulo'].value_counts()"
   ]
  },
  {
   "cell_type": "code",
   "execution_count": 27,
   "metadata": {},
   "outputs": [
    {
     "data": {
      "text/plain": [
       "Mr         757\n",
       "Miss       262\n",
       "Mrs        200\n",
       "Master      62\n",
       "Officer     23\n",
       "Royalty      5\n",
       "Name: titulo, dtype: int64"
      ]
     },
     "execution_count": 27,
     "metadata": {},
     "output_type": "execute_result"
    }
   ],
   "source": [
    "#Vamos a unificar algunos titulos de las personas\n",
    "tituloDict={}\n",
    "tituloDict['Mr']='Mr'\n",
    "tituloDict['Mlle']='Miss'\n",
    "tituloDict['Miss']='Miss'\n",
    "tituloDict['Master']='Master'\n",
    "tituloDict['Jonkheer']='Master'\n",
    "tituloDict['Mme']='Mrs'\n",
    "tituloDict['Ms']='Mrs'\n",
    "tituloDict['Mrs']='Mrs'\n",
    "tituloDict['Don']='Royalty'\n",
    "tituloDict['Sir']='Royalty'\n",
    "tituloDict['the Countess']='Royalty'\n",
    "tituloDict['Dona']='Royalty'\n",
    "tituloDict['Lady']='Royalty'\n",
    "tituloDict['Capt']='Officer'\n",
    "tituloDict['Col']='Officer'\n",
    "tituloDict['Major']='Officer'\n",
    "tituloDict['Dr']='Officer'\n",
    "tituloDict['Rev']='Officer'\n",
    "\n",
    "data['titulo']=data['titulo'].map(tituloDict)\n",
    "data['titulo'].value_counts()"
   ]
  },
  {
   "cell_type": "code",
   "execution_count": 28,
   "metadata": {},
   "outputs": [
    {
     "data": {
      "text/plain": [
       "<AxesSubplot:xlabel='titulo', ylabel='Survived'>"
      ]
     },
     "execution_count": 28,
     "metadata": {},
     "output_type": "execute_result"
    },
    {
     "data": {
      "image/png": "[encoded data removed]",
      "text/plain": [
       "<Figure size 432x288 with 1 Axes>"
      ]
     },
     "metadata": {},
     "output_type": "display_data"
    }
   ],
   "source": [
    "sns.barplot(data=data,x='titulo',y='Survived')"
   ]
  },
  {
   "cell_type": "markdown",
   "metadata": {},
   "source": [
    "Vamos a analizar la variable SibSp y ver como la gente sobrevive en base a dicha info"
   ]
  },
  {
   "cell_type": "code",
   "execution_count": 29,
   "metadata": {},
   "outputs": [
    {
     "data": {
      "text/plain": [
       "<AxesSubplot:xlabel='SibSp', ylabel='count'>"
      ]
     },
     "execution_count": 29,
     "metadata": {},
     "output_type": "execute_result"
    },
    {
     "data": {
      "image/png": "[encoded data removed]",
      "text/plain": [
       "<Figure size 432x288 with 1 Axes>"
      ]
     },
     "metadata": {},
     "output_type": "display_data"
    }
   ],
   "source": [
    "sns.countplot(x = train['SibSp'], hue = train['Survived'])"
   ]
  },
  {
   "cell_type": "markdown",
   "metadata": {},
   "source": [
    "Podemos observar que cuando la variable SibSp es igual a 1 cambia la tendencia entre sobrevivientes y no sobrevivientes"
   ]
  },
  {
   "cell_type": "code",
   "execution_count": 30,
   "metadata": {},
   "outputs": [
    {
     "name": "stdout",
     "output_type": "stream",
     "text": [
      "el 23.456790123456788 % de las personas tiene 1 familiar a bordo\n"
     ]
    }
   ],
   "source": [
    "print(\"el {} % de las personas tiene 1 familiar a bordo\".\\\n",
    "      format(train[train.SibSp == 1].shape[0] / train.shape[0]*100))"
   ]
  },
  {
   "cell_type": "markdown",
   "metadata": {},
   "source": [
    "Trabajo un poco sobre la variable Age"
   ]
  },
  {
   "cell_type": "code",
   "execution_count": 31,
   "metadata": {},
   "outputs": [
    {
     "data": {
      "image/png": "[encoded data removed]",
      "text/plain": [
       "<Figure size 432x288 with 1 Axes>"
      ]
     },
     "metadata": {},
     "output_type": "display_data"
    }
   ],
   "source": [
    "sns.set(style=\"ticks\", palette=\"pastel\")\n",
    "\n",
    "# Load the example tips dataset\n",
    "\n",
    "# Draw a nested boxplot to show bills by day and time\n",
    "sns.boxplot(x=\"Survived\", y=\"Age\",\n",
    "            hue=\"Sex\", palette=[\"m\", \"g\"],\n",
    "            data=train)\n",
    "sns.despine(offset=10, trim=True)"
   ]
  },
  {
   "cell_type": "markdown",
   "metadata": {},
   "source": [
    "Creo tres variables, cuartiles y deciles por edad y genero buckets de a 10 años. Luego genero las curvas de sobrevivientes acumuladas para ver si existe algún salto en los valores"
   ]
  },
  {
   "cell_type": "code",
   "execution_count": 32,
   "metadata": {},
   "outputs": [],
   "source": [
    "data[\"cuartilesEdad\"] = pd.qcut(data.Age,4, labels=False)\n",
    "data[\"decilesEdad\"] = pd.qcut(data.Age,10, labels=False)\n",
    "data[\"bucketsEdad\"] = pd.cut(data.Age, np.array([0,10,20,30,40,50,60,70,80]))"
   ]
  },
  {
   "cell_type": "code",
   "execution_count": 33,
   "metadata": {},
   "outputs": [
    {
     "data": {
      "text/plain": [
       "<AxesSubplot:xlabel='bucketsEdad', ylabel='% Sobrevivientes Acumulado'>"
      ]
     },
     "execution_count": 33,
     "metadata": {},
     "output_type": "execute_result"
    },
    {
     "data": {
      "image/png": "[encoded data removed]",
      "text/plain": [
       "<Figure size 432x288 with 1 Axes>"
      ]
     },
     "metadata": {},
     "output_type": "display_data"
    }
   ],
   "source": [
    "bucketsEdad = data.groupby(\"bucketsEdad\").agg({\"Survived\":[\"sum\", \"count\"]}).reset_index()\n",
    "bucketsEdad.columns =[\"bucketsEdad\", \"# Sobrevivientes\", \"# Totales\"]\n",
    "bucketsEdad[\"bucketsEdad\"] = bucketsEdad.bucketsEdad.astype(str)\n",
    "totales = bucketsEdad[\"# Sobrevivientes\"].sum()\n",
    "bucketsEdad[\"% Sobrevivientes\"] = bucketsEdad[\"# Sobrevivientes\"] / totales\n",
    "bucketsEdad[\"% Sobrevivientes Acumulado\"] = bucketsEdad[\"% Sobrevivientes\"].cumsum()\n",
    "sns.lineplot(x=\"bucketsEdad\", y=\"% Sobrevivientes Acumulado\", data=bucketsEdad)"
   ]
  },
  {
   "cell_type": "code",
   "execution_count": 34,
   "metadata": {},
   "outputs": [
    {
     "data": {
      "text/plain": [
       "<AxesSubplot:xlabel='cuartilesEdad', ylabel='% Sobrevivientes Acumulado'>"
      ]
     },
     "execution_count": 34,
     "metadata": {},
     "output_type": "execute_result"
    },
    {
     "data": {
      "image/png": "[encoded data removed]",
      "text/plain": [
       "<Figure size 432x288 with 1 Axes>"
      ]
     },
     "metadata": {},
     "output_type": "display_data"
    }
   ],
   "source": [
    "cuartilesEdad = data.groupby(\"cuartilesEdad\").agg({\"Survived\":[\"sum\", \"count\"]}).reset_index()\n",
    "cuartilesEdad.columns =[\"cuartilesEdad\", \"# Sobrevivientes\", \"# Totales\"]\n",
    "cuartilesEdad[\"cuartilesEdad\"] = cuartilesEdad.cuartilesEdad.astype(str)\n",
    "totales = cuartilesEdad[\"# Sobrevivientes\"].sum()\n",
    "cuartilesEdad[\"% Sobrevivientes\"] = cuartilesEdad[\"# Sobrevivientes\"] / totales\n",
    "cuartilesEdad[\"% Sobrevivientes Acumulado\"] = cuartilesEdad[\"% Sobrevivientes\"].cumsum()\n",
    "sns.lineplot(x=\"cuartilesEdad\", y=\"% Sobrevivientes Acumulado\", data=cuartilesEdad)"
   ]
  },
  {
   "cell_type": "code",
   "execution_count": 35,
   "metadata": {},
   "outputs": [
    {
     "data": {
      "text/plain": [
       "<AxesSubplot:xlabel='decilesEdad', ylabel='% Sobrevivientes Acumulado'>"
      ]
     },
     "execution_count": 35,
     "metadata": {},
     "output_type": "execute_result"
    },
    {
     "data": {
      "image/png": "[encoded data removed]",
      "text/plain": [
       "<Figure size 432x288 with 1 Axes>"
      ]
     },
     "metadata": {},
     "output_type": "display_data"
    }
   ],
   "source": [
    "decilesEdad = data.groupby(\"decilesEdad\").agg({\"Survived\":[\"sum\", \"count\"]}).reset_index()\n",
    "decilesEdad.columns =[\"decilesEdad\", \"# Sobrevivientes\", \"# Totales\"]\n",
    "decilesEdad[\"decilesEdad\"] = decilesEdad.decilesEdad.astype(str)\n",
    "totales = decilesEdad[\"# Sobrevivientes\"].sum()\n",
    "decilesEdad[\"% Sobrevivientes\"] = decilesEdad[\"# Sobrevivientes\"] / totales\n",
    "decilesEdad[\"% Sobrevivientes Acumulado\"] = decilesEdad[\"% Sobrevivientes\"].cumsum()\n",
    "sns.lineplot(x=\"decilesEdad\", y=\"% Sobrevivientes Acumulado\", data=decilesEdad)"
   ]
  },
  {
   "cell_type": "markdown",
   "metadata": {},
   "source": [
    "A continuación lo que vamos a hacer es crear un gráfico con el porcentaje de cada uno de los deciles de edades y compararlo con la proporción de sobrevivientes en la base total. Con esto vamos a tener alguna idea si existe algún decil que posee mayor proporción de sobrevivientes. (Para esto creamos una nueva base llamada newTrain desde data para que tengamos sólo aquellos que tienen un target definido)"
   ]
  },
  {
   "cell_type": "code",
   "execution_count": 36,
   "metadata": {},
   "outputs": [
    {
     "data": {
      "text/plain": [
       "<matplotlib.lines.Line2D at 0x1e8b7596e88>"
      ]
     },
     "execution_count": 36,
     "metadata": {},
     "output_type": "execute_result"
    },
    {
     "data": {
      "image/png": "[encoded data removed]",
      "text/plain": [
       "<Figure size 432x288 with 1 Axes>"
      ]
     },
     "metadata": {},
     "output_type": "display_data"
    }
   ],
   "source": [
    "newTrain = data[~data.Survived.isna()]\n",
    "newTrain[\"decilesEdad\"] = pd.qcut(newTrain.Age,10, labels=False)\n",
    "decilesEdad = newTrain.groupby(\"decilesEdad\").agg({\"Survived\":[\"sum\", \"count\"]}).reset_index()\n",
    "decilesEdad.columns =[\"decilesEdad\", \"# Sobrevivientes\", \"# Totales\"]\n",
    "totales = decilesEdad[\"# Sobrevivientes\"].sum()\n",
    "decilesEdad[\"% Sobrevivientes\"] = decilesEdad[\"# Sobrevivientes\"] / decilesEdad[\"# Totales\"] \n",
    "decilesEdad[\"decilesEdad\"] = decilesEdad.decilesEdad.astype(str)\n",
    "pcSurvived = train.Survived.sum() / train.shape[0]\n",
    "pcSurvived\n",
    "fig = sns.barplot(x = \"decilesEdad\", y = \"% Sobrevivientes\", \n",
    "                  data = decilesEdad)\n",
    "fig.axhline(pcSurvived, ls= \"--\")"
   ]
  },
  {
   "cell_type": "markdown",
   "metadata": {},
   "source": [
    "Al mismo gráfico le vamos a incorporar la cantidad de registros que posee cada uno de los deciles para entender si realmente este cambio es significativo con respecto a la base"
   ]
  },
  {
   "cell_type": "code",
   "execution_count": 37,
   "metadata": {},
   "outputs": [
    {
     "data": {
      "text/plain": [
       "<matplotlib.lines.Line2D at 0x1e8b76b9508>"
      ]
     },
     "execution_count": 37,
     "metadata": {},
     "output_type": "execute_result"
    },
    {
     "data": {
      "image/png": "[encoded data removed]",
      "text/plain": [
       "<Figure size 864x432 with 2 Axes>"
      ]
     },
     "metadata": {},
     "output_type": "display_data"
    }
   ],
   "source": [
    "#Seteo matplotlib para que se generen dos subgraficos en uno mismo\n",
    "fig, (ax1, ax2) = plt.subplots(ncols=2, figsize = (12,6))\n",
    "#Seteamos la paleta de colores que va a usar el grafico\n",
    "sns.set_color_codes(\"pastel\")\n",
    "#Genero el primer grafico en donde mostrare la cantidad de observaciones por cada decil\n",
    "s = sns.barplot(ax=ax1, x = \"decilesEdad\", y = \"# Totales\", data = decilesEdad)\n",
    "#Genero el segundo grafico en donde muestro la proporcion de sobrevivientes por decil\n",
    "s = sns.barplot(ax=ax2, x = \"decilesEdad\", y = \"% Sobrevivientes\", data = decilesEdad)\n",
    "#Seteo la recta de proporcion de target total de la base solo en el segundo grafico\n",
    "ax2.axhline(pcSurvived, ls=\"--\")"
   ]
  },
  {
   "cell_type": "markdown",
   "metadata": {},
   "source": [
    "Por ultimo lo que vamos a hacer es crear para todas las variables categorias, variables dummies\n",
    "(Pclass, Sex, Titulo, decilesEdad) y vamos a eliminar las variables que no vamos a utilizar\n",
    "(cuartilesEdad, bucketsEdad, Ticket, Name) Estas últimas variables sólo las vamos a eliminar para que quede más limpio la base."
   ]
  },
  {
   "cell_type": "code",
   "execution_count": 38,
   "metadata": {},
   "outputs": [
    {
     "data": {
      "text/html": [
       "<div>\n",
       "<style scoped>\n",
       "    .dataframe tbody tr th:only-of-type {\n",
       "        vertical-align: middle;\n",
       "    }\n",
       "\n",
       "    .dataframe tbody tr th {\n",
       "        vertical-align: top;\n",
       "    }\n",
       "\n",
       "    .dataframe thead th {\n",
       "        text-align: right;\n",
       "    }\n",
       "</style>\n",
       "<table border=\"1\" class=\"dataframe\">\n",
       "  <thead>\n",
       "    <tr style=\"text-align: right;\">\n",
       "      <th></th>\n",
       "      <th>PassengerId</th>\n",
       "      <th>Survived</th>\n",
       "      <th>Age</th>\n",
       "      <th>SibSp</th>\n",
       "      <th>Parch</th>\n",
       "      <th>Fare</th>\n",
       "      <th>Embarked</th>\n",
       "      <th>Pclass_1</th>\n",
       "      <th>Pclass_2</th>\n",
       "      <th>Pclass_3</th>\n",
       "      <th>Sex_female</th>\n",
       "      <th>Sex_male</th>\n",
       "      <th>titulo_Master</th>\n",
       "      <th>titulo_Miss</th>\n",
       "      <th>titulo_Mr</th>\n",
       "      <th>titulo_Mrs</th>\n",
       "      <th>titulo_Officer</th>\n",
       "      <th>titulo_Royalty</th>\n",
       "      <th>decilesEdad_0</th>\n",
       "      <th>decilesEdad_1</th>\n",
       "      <th>decilesEdad_2</th>\n",
       "      <th>decilesEdad_3</th>\n",
       "      <th>decilesEdad_4</th>\n",
       "      <th>decilesEdad_5</th>\n",
       "      <th>decilesEdad_6</th>\n",
       "      <th>decilesEdad_7</th>\n",
       "      <th>decilesEdad_8</th>\n",
       "      <th>decilesEdad_9</th>\n",
       "    </tr>\n",
       "  </thead>\n",
       "  <tbody>\n",
       "    <tr>\n",
       "      <th>0</th>\n",
       "      <td>1</td>\n",
       "      <td>0.0</td>\n",
       "      <td>22.0</td>\n",
       "      <td>1</td>\n",
       "      <td>0</td>\n",
       "      <td>7.2500</td>\n",
       "      <td>S</td>\n",
       "      <td>0</td>\n",
       "      <td>0</td>\n",
       "      <td>1</td>\n",
       "      <td>0</td>\n",
       "      <td>1</td>\n",
       "      <td>0</td>\n",
       "      <td>0</td>\n",
       "      <td>1</td>\n",
       "      <td>0</td>\n",
       "      <td>0</td>\n",
       "      <td>0</td>\n",
       "      <td>0</td>\n",
       "      <td>0</td>\n",
       "      <td>1</td>\n",
       "      <td>0</td>\n",
       "      <td>0</td>\n",
       "      <td>0</td>\n",
       "      <td>0</td>\n",
       "      <td>0</td>\n",
       "      <td>0</td>\n",
       "      <td>0</td>\n",
       "    </tr>\n",
       "    <tr>\n",
       "      <th>1</th>\n",
       "      <td>2</td>\n",
       "      <td>1.0</td>\n",
       "      <td>38.0</td>\n",
       "      <td>1</td>\n",
       "      <td>0</td>\n",
       "      <td>71.2833</td>\n",
       "      <td>C</td>\n",
       "      <td>1</td>\n",
       "      <td>0</td>\n",
       "      <td>0</td>\n",
       "      <td>1</td>\n",
       "      <td>0</td>\n",
       "      <td>0</td>\n",
       "      <td>0</td>\n",
       "      <td>0</td>\n",
       "      <td>1</td>\n",
       "      <td>0</td>\n",
       "      <td>0</td>\n",
       "      <td>0</td>\n",
       "      <td>0</td>\n",
       "      <td>0</td>\n",
       "      <td>0</td>\n",
       "      <td>0</td>\n",
       "      <td>0</td>\n",
       "      <td>0</td>\n",
       "      <td>1</td>\n",
       "      <td>0</td>\n",
       "      <td>0</td>\n",
       "    </tr>\n",
       "    <tr>\n",
       "      <th>2</th>\n",
       "      <td>3</td>\n",
       "      <td>1.0</td>\n",
       "      <td>26.0</td>\n",
       "      <td>0</td>\n",
       "      <td>0</td>\n",
       "      <td>7.9250</td>\n",
       "      <td>S</td>\n",
       "      <td>0</td>\n",
       "      <td>0</td>\n",
       "      <td>1</td>\n",
       "      <td>1</td>\n",
       "      <td>0</td>\n",
       "      <td>0</td>\n",
       "      <td>1</td>\n",
       "      <td>0</td>\n",
       "      <td>0</td>\n",
       "      <td>0</td>\n",
       "      <td>0</td>\n",
       "      <td>0</td>\n",
       "      <td>0</td>\n",
       "      <td>0</td>\n",
       "      <td>0</td>\n",
       "      <td>1</td>\n",
       "      <td>0</td>\n",
       "      <td>0</td>\n",
       "      <td>0</td>\n",
       "      <td>0</td>\n",
       "      <td>0</td>\n",
       "    </tr>\n",
       "    <tr>\n",
       "      <th>3</th>\n",
       "      <td>4</td>\n",
       "      <td>1.0</td>\n",
       "      <td>35.0</td>\n",
       "      <td>1</td>\n",
       "      <td>0</td>\n",
       "      <td>53.1000</td>\n",
       "      <td>S</td>\n",
       "      <td>1</td>\n",
       "      <td>0</td>\n",
       "      <td>0</td>\n",
       "      <td>1</td>\n",
       "      <td>0</td>\n",
       "      <td>0</td>\n",
       "      <td>0</td>\n",
       "      <td>0</td>\n",
       "      <td>1</td>\n",
       "      <td>0</td>\n",
       "      <td>0</td>\n",
       "      <td>0</td>\n",
       "      <td>0</td>\n",
       "      <td>0</td>\n",
       "      <td>0</td>\n",
       "      <td>0</td>\n",
       "      <td>0</td>\n",
       "      <td>0</td>\n",
       "      <td>1</td>\n",
       "      <td>0</td>\n",
       "      <td>0</td>\n",
       "    </tr>\n",
       "    <tr>\n",
       "      <th>4</th>\n",
       "      <td>5</td>\n",
       "      <td>0.0</td>\n",
       "      <td>35.0</td>\n",
       "      <td>0</td>\n",
       "      <td>0</td>\n",
       "      <td>8.0500</td>\n",
       "      <td>S</td>\n",
       "      <td>0</td>\n",
       "      <td>0</td>\n",
       "      <td>1</td>\n",
       "      <td>0</td>\n",
       "      <td>1</td>\n",
       "      <td>0</td>\n",
       "      <td>0</td>\n",
       "      <td>1</td>\n",
       "      <td>0</td>\n",
       "      <td>0</td>\n",
       "      <td>0</td>\n",
       "      <td>0</td>\n",
       "      <td>0</td>\n",
       "      <td>0</td>\n",
       "      <td>0</td>\n",
       "      <td>0</td>\n",
       "      <td>0</td>\n",
       "      <td>0</td>\n",
       "      <td>1</td>\n",
       "      <td>0</td>\n",
       "      <td>0</td>\n",
       "    </tr>\n",
       "  </tbody>\n",
       "</table>\n",
       "</div>"
      ],
      "text/plain": [
       "   PassengerId  Survived   Age  SibSp  Parch     Fare Embarked  Pclass_1  \\\n",
       "0            1       0.0  22.0      1      0   7.2500        S         0   \n",
       "1            2       1.0  38.0      1      0  71.2833        C         1   \n",
       "2            3       1.0  26.0      0      0   7.9250        S         0   \n",
       "3            4       1.0  35.0      1      0  53.1000        S         1   \n",
       "4            5       0.0  35.0      0      0   8.0500        S         0   \n",
       "\n",
       "   Pclass_2  Pclass_3  Sex_female  Sex_male  titulo_Master  titulo_Miss  \\\n",
       "0         0         1           0         1              0            0   \n",
       "1         0         0           1         0              0            0   \n",
       "2         0         1           1         0              0            1   \n",
       "3         0         0           1         0              0            0   \n",
       "4         0         1           0         1              0            0   \n",
       "\n",
       "   titulo_Mr  titulo_Mrs  titulo_Officer  titulo_Royalty  decilesEdad_0  \\\n",
       "0          1           0               0               0              0   \n",
       "1          0           1               0               0              0   \n",
       "2          0           0               0               0              0   \n",
       "3          0           1               0               0              0   \n",
       "4          1           0               0               0              0   \n",
       "\n",
       "   decilesEdad_1  decilesEdad_2  decilesEdad_3  decilesEdad_4  decilesEdad_5  \\\n",
       "0              0              1              0              0              0   \n",
       "1              0              0              0              0              0   \n",
       "2              0              0              0              1              0   \n",
       "3              0              0              0              0              0   \n",
       "4              0              0              0              0              0   \n",
       "\n",
       "   decilesEdad_6  decilesEdad_7  decilesEdad_8  decilesEdad_9  \n",
       "0              0              0              0              0  \n",
       "1              0              1              0              0  \n",
       "2              0              0              0              0  \n",
       "3              0              1              0              0  \n",
       "4              0              1              0              0  "
      ]
     },
     "execution_count": 38,
     "metadata": {},
     "output_type": "execute_result"
    }
   ],
   "source": [
    "variablesDummies = [\"Pclass\", \"Sex\", \"titulo\", \"decilesEdad\"]\n",
    "for variable in variablesDummies:\n",
    "    data = data.join(pd.get_dummies(data[variable], prefix = variable))\n",
    "data = data.drop(columns = variablesDummies)\n",
    "data = data.drop(columns = [\"cuartilesEdad\", \"bucketsEdad\", \"Ticket\", \"Name\"])\n",
    "data.head()"
   ]
  },
  {
   "cell_type": "markdown",
   "metadata": {},
   "source": [
    "Para la variable Embarked vamos a utilizar labelEncoder para convertir letras en numeros"
   ]
  },
  {
   "cell_type": "code",
   "execution_count": 39,
   "metadata": {},
   "outputs": [],
   "source": [
    "le = LabelEncoder()\n",
    "le.fit(data.Embarked.values)\n",
    "data = data.join(pd.DataFrame(le.transform(data.Embarked.values), columns=[\"labelEncoderEmbarked\"]))\n",
    "data = data.drop(columns = [\"Embarked\"])"
   ]
  },
  {
   "cell_type": "code",
   "execution_count": 40,
   "metadata": {},
   "outputs": [],
   "source": [
    "#Grabo las bases para seguir con el modelado\n",
    "newTrain = data[~data.Survived.isna()].to_csv(\"./data/titanic/02 - preprocesada/train.csv\", index = False)\n",
    "newTest = data[data.Survived.isna()].to_csv(\"./data/titanic/02 - preprocesada/test.csv\", index = False)"
   ]
  },
  {
   "cell_type": "code",
   "execution_count": null,
   "metadata": {},
   "outputs": [],
   "source": []
  },
  {
   "cell_type": "code",
   "execution_count": null,
   "metadata": {},
   "outputs": [],
   "source": []
  }
 ],
 "metadata": {
  "kernelspec": {
   "display_name": "Python 3",
   "language": "python",
   "name": "python3"
  },
  "language_info": {
   "codemirror_mode": {
    "name": "ipython",
    "version": 3
   },
   "file_extension": ".py",
   "mimetype": "text/x-python",
   "name": "python",
   "nbconvert_exporter": "python",
   "pygments_lexer": "ipython3",
   "version": "3.7.6"
  }
 },
 "nbformat": 4,
 "nbformat_minor": 4
}
